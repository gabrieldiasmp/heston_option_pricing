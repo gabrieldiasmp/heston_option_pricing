{
 "cells": [
  {
   "cell_type": "code",
   "execution_count": 1,
   "metadata": {},
   "outputs": [
    {
     "ename": "SyntaxError",
     "evalue": "unexpected character after line continuation character (<ipython-input-1-62c7683864d4>, line 1)",
     "output_type": "error",
     "traceback": [
      "\u001b[0;36m  File \u001b[0;32m\"<ipython-input-1-62c7683864d4>\"\u001b[0;36m, line \u001b[0;32m1\u001b[0m\n\u001b[0;31m    \\begin{equation*}\u001b[0m\n\u001b[0m                     ^\u001b[0m\n\u001b[0;31mSyntaxError\u001b[0m\u001b[0;31m:\u001b[0m unexpected character after line continuation character\n"
     ]
    }
   ],
   "source": [
    "%%latex\n",
    "\\begin{equation*}\n",
    "\\left( \\sum_{k=1}^n a_k b_k \\right)^2 \\leq \\left( \\sum_{k=1}^n a_k^2 \\right) \\left( \\sum_{k=1}^n b_k^2 \\right)\n",
    "\\end{equation*}"
   ]
  },
  {
   "cell_type": "code",
   "execution_count": null,
   "metadata": {},
   "outputs": [],
   "source": [
    "##Bibliotecas necessárias\n",
    "\n",
    "import numpy as np\n",
    "from scipy import inf, pi, exp, linspace, zeros, real, imag, array, log\n",
    "from scipy.stats import norm\n",
    "from scipy.integrate import quad\n",
    "from scipy.optimize import differential_evolution\n",
    "import pandas as pd\n",
    "import os\n",
    "import time\n",
    "from matplotlib import pyplot\n",
    "import math"
   ]
  },
  {
   "cell_type": "code",
   "execution_count": null,
   "metadata": {},
   "outputs": [],
   "source": [
    "##Primeiros tratamentos dos dados\n",
    "\n",
    "iv_surface = pd.read_csv(\"data/spy_options.csv\")\n",
    "iv_surface.rename(columns={'Strike': 'strike',\n",
    "                           'Implied Volatility': 'iv',\n",
    "                           'Last Price': \"price\"}, inplace=True)\n",
    "\n",
    "iv_surface[\"moneyness\"] = iv_surface[\"spot\"] / iv_surface[\"strike\"]\n",
    "\n",
    "iv_surface = iv_surface.loc[(iv_surface[\"tipo\"] == \"calls\") & \n",
    "(iv_surface[\"t_ano\"] > 0.1) & \n",
    "(iv_surface[\"t_ano\"] < 5) & \n",
    "(iv_surface[\"moneyness\"] < 1.66) & \n",
    "(iv_surface[\"moneyness\"] > 0.7) & \n",
    "(iv_surface[\"iv\"] > 0) &\n",
    "(iv_surface[\"strike\"].isin([180, 200, 220, 240, 270, 299, 315, 330, 350, 370, 400, 420])), \n",
    "[\"spot\", \"strike\", 'moneyness', \"price\", \"iv\", \"tipo\", \"t_ano\"]]"
   ]
  },
  {
   "cell_type": "code",
   "execution_count": null,
   "metadata": {},
   "outputs": [],
   "source": [
    "##Funções necessárias\n",
    "\n",
    "def heston_phi(k, tau, *parms):\n",
    "\n",
    "    ## PARÂMETROS\n",
    "    ## v0: volatilidade inicial\n",
    "    ## v_long: média de longo prazo da volatilidade\n",
    "    ## mean_reversion: velocidade da reversão à média\n",
    "    ## vol_vol: volatilidade da volatilidade\n",
    "    ## rho: correlação entre o ativo subjacente e a volatilidade\n",
    "    ## tau: prazo de expiração\n",
    "    ## S0: preço inicial do ativo subjacente\n",
    "    ## K: preço de strike\n",
    "\n",
    "    v0, v_long, mean_reversion, vol_vol, rho = parms\n",
    "\n",
    "    b = mean_reversion + 1j*rho*vol_vol*k\n",
    "    d = np.sqrt( b**2 + (vol_vol**2)*k*(k-1j) )\n",
    "    g = (b - d)/(b + d)\n",
    "    T_m = (b - d)/(vol_vol**2)\n",
    "    T = T_m * ( 1 - exp(-d*tau) )/( 1 - g*exp(-d*tau) )\n",
    "    W = mean_reversion * v_long * ( tau*T_m - 2*log( ( 1 - g*exp(-d*tau) )/( 1 - g ) )/(vol_vol**2) )\n",
    "\n",
    "    return exp(W + v0*T)\n",
    "\n",
    "def heston_phi_transform(tau, x, *parms):\n",
    "    integrand = lambda k: 2 * real( exp(-1j*k*x) * heston_phi(k + 0.5*1j, tau, *parms) )/(k**2 + 1.0/4.0)\n",
    "    return quad(integrand, 0, 50)[0]\n",
    "\n",
    "def heston_call(F, K, tau, *parms):\n",
    "    '''Heston call'''\n",
    "    x = log(F/K)\n",
    "    return F - (np.sqrt(K*F)/(2*pi)) * heston_phi_transform(tau, x, *parms)\n",
    "\n",
    "def heston_evaluate(chromo):\n",
    "    \"\"\"docstring for heston_evaluate\"\"\"\n",
    "    v0 = chromo[0]\n",
    "    v_long = chromo[1]\n",
    "    mean_reversion = chromo[2]\n",
    "    vol_vol = chromo[3]\n",
    "    rho = chromo[4]\n",
    "\n",
    "    lista_erro = []    \n",
    "  \n",
    "    for index, row in iv_surface.iterrows():\n",
    "        lista_erro.append((row[\"price\"] - heston_call(row[\"spot\"], row[\"strike\"], row[\"t_ano\"], v0, v_long, mean_reversion, vol_vol, rho))**2)\n",
    "\n",
    "    diffs = sum(lista_erro)\n",
    "\n",
    "    return diffs"
   ]
  },
  {
   "cell_type": "code",
   "execution_count": null,
   "metadata": {},
   "outputs": [],
   "source": [
    "##Calibrando o modelo via Differential Evolution\n",
    "\n",
    "\n",
    "result = differential_evolution(heston_evaluate,\n",
    "    workers = -1,\n",
    "    disp = True,\n",
    "    bounds = [(0,1), (0, 1), (0, 5), (0, 5), (-1, 1)],\n",
    "    maxiter = 30)\n",
    "\n",
    "optimized_parameters = result.x\n",
    "\n",
    "price_pred_list = []\n",
    "\n",
    "for index, row in iv_surface.iterrows():\n",
    "    price_pred_list.append(heston_ucall(row[\"spot\"], row[\"strike\"], row[\"t_ano\"], *optimized_parameters))"
   ]
  }
 ],
 "metadata": {
  "kernelspec": {
   "display_name": "Python 3",
   "language": "python",
   "name": "python3"
  },
  "language_info": {
   "codemirror_mode": {
    "name": "ipython",
    "version": 3
   },
   "file_extension": ".py",
   "mimetype": "text/x-python",
   "name": "python",
   "nbconvert_exporter": "python",
   "pygments_lexer": "ipython3",
   "version": "3.6.8"
  }
 },
 "nbformat": 4,
 "nbformat_minor": 2
}
