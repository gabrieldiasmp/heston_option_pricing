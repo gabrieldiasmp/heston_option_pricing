{
 "metadata": {
  "language_info": {
   "codemirror_mode": {
    "name": "ipython",
    "version": 3
   },
   "file_extension": ".py",
   "mimetype": "text/x-python",
   "name": "python",
   "nbconvert_exporter": "python",
   "pygments_lexer": "ipython3",
   "version": "3.6.9-final"
  },
  "orig_nbformat": 2,
  "kernelspec": {
   "name": "Python 3.6.9 64-bit",
   "display_name": "Python 3.6.9 64-bit",
   "metadata": {
    "interpreter": {
     "hash": "31f2aee4e71d21fbe5cf8b01ff0e069b9275f58929596ceb00d14d90e3e16cd6"
    }
   }
  }
 },
 "nbformat": 4,
 "nbformat_minor": 2,
 "cells": [
  {
   "source": [
    "# Getting S&P 500 option data from Yahoo! Finance"
   ],
   "cell_type": "markdown",
   "metadata": {}
  },
  {
   "cell_type": "code",
   "execution_count": 1,
   "metadata": {},
   "outputs": [],
   "source": [
    "## Needed packages\n",
    "\n",
    "import pandas as pd\n",
    "from numpy import meshgrid, sqrt, diff, inf, pi, exp, linspace, zeros, real, imag, array, log\n",
    "from scipy.stats import norm\n",
    "from scipy.integrate import quad\n",
    "import datetime\n",
    "from mpl_toolkits import mplot3d\n",
    "from yahoo_fin import options\n",
    "import matplotlib.pyplot as plt\n",
    "import html5lib\n",
    "from bs4 import BeautifulSoup"
   ]
  },
  {
   "cell_type": "code",
   "execution_count": 2,
   "metadata": {
    "tags": []
   },
   "outputs": [
    {
     "output_type": "stream",
     "name": "stdout",
     "text": "0\n0\n1\n1\n2\n2\n3\n3\n4\n4\n5\n5\n6\n6\n7\n7\n8\n8\n9\n9\n10\n10\n11\n11\n12\n12\n13\n13\n14\n14\n15\n15\n16\n16\n17\n17\n18\n18\n19\n19\n20\n20\n21\n21\n22\n22\n23\n23\n24\n24\n25\n25\n26\n26\n27\n27\n28\n28\n29\n29\n30\n30\n31\n31\n32\n32\n33\n33\n34\n34\n35\n35\n36\n36\n"
    }
   ],
   "source": [
    "import yfinance as yf\n",
    "\n",
    "df = yf.Ticker('SPY')\n",
    "expirations = df.options\n",
    "\n",
    "all_options_dfs = []\n",
    "\n",
    "## Get calls and puts for each expiration date\n",
    "for d, value in enumerate(expirations):\n",
    "    for type_option in ['calls', 'puts']:\n",
    "        print(d)\n",
    "        df_temp = getattr(df.option_chain(date=value), type_option)\n",
    "        df_temp['type_option'] = type_option\n",
    "        df_temp[\"spot\"] = 339.76\n",
    "        df_temp[\"expiry\"] = value\n",
    "        all_options_dfs.append(df_temp)\n",
    "\n"
   ]
  },
  {
   "cell_type": "code",
   "execution_count": 13,
   "metadata": {
    "tags": []
   },
   "outputs": [
    {
     "output_type": "execute_result",
     "data": {
      "text/plain": "calls    3814\nputs     3694\nName: type_option, dtype: int64"
     },
     "metadata": {},
     "execution_count": 13
    }
   ],
   "source": [
    "spy = pd.concat(all_options_dfs)\n",
    "spy['type_option'].value_counts()"
   ]
  },
  {
   "cell_type": "code",
   "execution_count": 14,
   "metadata": {
    "tags": []
   },
   "outputs": [],
   "source": [
    "spy[\"expiry\"] = pd.to_datetime(spy[\"expiry\"], format=\"%Y-%m-%d\") \n",
    "spy[\"ano_vencimento\"] = spy.loc[:, [\"expiry\"]] - pd.to_datetime(datetime.date.today())\n",
    "spy[\"ano_vencimento\"] = (spy[\"ano_vencimento\"].astype('timedelta64[D]'))/360\n",
    "spy = spy.rename(\n",
    "    columns={'lastPrice': 'preco'})\n",
    "\n",
    "spy[\"moneyness\"] = (spy[\"spot\"] / spy[\"strike\"])\n",
    "\n",
    "spy = spy.loc[(spy['type_option'] == 'calls') & (spy['moneyness'] >= 0.8) & (spy['moneyness'] <= 1.8) & (spy['ano_vencimento'] > 0)]"
   ]
  },
  {
   "cell_type": "code",
   "execution_count": 15,
   "metadata": {},
   "outputs": [],
   "source": [
    "spy.to_csv('spy_yfinance_call.csv', index=False)"
   ]
  }
 ]
}